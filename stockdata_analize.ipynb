{
 "cells": [
  {
   "cell_type": "code",
   "execution_count": 2,
   "metadata": {},
   "outputs": [],
   "source": [
    "### Программа графического анализа данных ###\n",
    "\n",
    "# импортируем и настраиваем параметры вывода графиков\n",
    "import matplotlib as mpl\n",
    "import matplotlib.pyplot as plt\n",
    "mpl.rcParams['axes.grid'] = False\n",
    "mpl.rcParams['figure.figsize'] = (12, 6)\n",
    "\n",
    "import pandas as pd\n",
    "import numpy as np"
   ]
  },
  {
   "cell_type": "code",
   "execution_count": 4,
   "metadata": {},
   "outputs": [
    {
     "data": {
      "text/html": [
       "<div>\n",
       "<style scoped>\n",
       "    .dataframe tbody tr th:only-of-type {\n",
       "        vertical-align: middle;\n",
       "    }\n",
       "\n",
       "    .dataframe tbody tr th {\n",
       "        vertical-align: top;\n",
       "    }\n",
       "\n",
       "    .dataframe thead th {\n",
       "        text-align: right;\n",
       "    }\n",
       "</style>\n",
       "<table border=\"1\" class=\"dataframe\">\n",
       "  <thead>\n",
       "    <tr style=\"text-align: right;\">\n",
       "      <th></th>\n",
       "      <th>LastPrice</th>\n",
       "      <th>LastPriceKF</th>\n",
       "      <th>Volume</th>\n",
       "      <th>VolumeSUM</th>\n",
       "      <th>VolumeKF</th>\n",
       "      <th>dTime</th>\n",
       "    </tr>\n",
       "    <tr>\n",
       "      <th>DateTime</th>\n",
       "      <th></th>\n",
       "      <th></th>\n",
       "      <th></th>\n",
       "      <th></th>\n",
       "      <th></th>\n",
       "      <th></th>\n",
       "    </tr>\n",
       "  </thead>\n",
       "  <tbody>\n",
       "    <tr>\n",
       "      <th>2020-11-02 12:25:42</th>\n",
       "      <td>80.3475</td>\n",
       "      <td>80.347500</td>\n",
       "      <td>0.0</td>\n",
       "      <td>0.0</td>\n",
       "      <td>0.000000</td>\n",
       "      <td>0.0</td>\n",
       "    </tr>\n",
       "    <tr>\n",
       "      <th>2020-11-02 12:25:46</th>\n",
       "      <td>80.3425</td>\n",
       "      <td>80.344995</td>\n",
       "      <td>0.0</td>\n",
       "      <td>0.0</td>\n",
       "      <td>0.000000</td>\n",
       "      <td>4.0</td>\n",
       "    </tr>\n",
       "    <tr>\n",
       "      <th>2020-11-02 12:25:49</th>\n",
       "      <td>80.3375</td>\n",
       "      <td>80.342481</td>\n",
       "      <td>-230.0</td>\n",
       "      <td>-230.0</td>\n",
       "      <td>-47.813455</td>\n",
       "      <td>3.0</td>\n",
       "    </tr>\n",
       "    <tr>\n",
       "      <th>2020-11-02 12:25:52</th>\n",
       "      <td>80.3425</td>\n",
       "      <td>80.342486</td>\n",
       "      <td>0.0</td>\n",
       "      <td>-230.0</td>\n",
       "      <td>-68.899659</td>\n",
       "      <td>3.0</td>\n",
       "    </tr>\n",
       "    <tr>\n",
       "      <th>2020-11-02 12:25:55</th>\n",
       "      <td>80.3250</td>\n",
       "      <td>80.338911</td>\n",
       "      <td>-2568.0</td>\n",
       "      <td>-2798.0</td>\n",
       "      <td>-407.751033</td>\n",
       "      <td>3.0</td>\n",
       "    </tr>\n",
       "  </tbody>\n",
       "</table>\n",
       "</div>"
      ],
      "text/plain": [
       "                     LastPrice  LastPriceKF  Volume  VolumeSUM    VolumeKF  \\\n",
       "DateTime                                                                     \n",
       "2020-11-02 12:25:42    80.3475    80.347500     0.0        0.0    0.000000   \n",
       "2020-11-02 12:25:46    80.3425    80.344995     0.0        0.0    0.000000   \n",
       "2020-11-02 12:25:49    80.3375    80.342481  -230.0     -230.0  -47.813455   \n",
       "2020-11-02 12:25:52    80.3425    80.342486     0.0     -230.0  -68.899659   \n",
       "2020-11-02 12:25:55    80.3250    80.338911 -2568.0    -2798.0 -407.751033   \n",
       "\n",
       "                     dTime  \n",
       "DateTime                    \n",
       "2020-11-02 12:25:42    0.0  \n",
       "2020-11-02 12:25:46    4.0  \n",
       "2020-11-02 12:25:49    3.0  \n",
       "2020-11-02 12:25:52    3.0  \n",
       "2020-11-02 12:25:55    3.0  "
      ]
     },
     "execution_count": 4,
     "metadata": {},
     "output_type": "execute_result"
    }
   ],
   "source": [
    "# Загружеме нужный файл\n",
    "version = '1.0.2'\n",
    "filename = f'C:/Project/data/usdrub_{version}.csv'\n",
    "\n",
    "stockdata = pd.read_csv(filename)\n",
    "stockdata.set_index('DateTime', inplace=True)\n",
    "stockdata.head()"
   ]
  }
 ],
 "metadata": {
  "kernelspec": {
   "display_name": "Python 3.7.6 ('base')",
   "language": "python",
   "name": "python3"
  },
  "language_info": {
   "codemirror_mode": {
    "name": "ipython",
    "version": 3
   },
   "file_extension": ".py",
   "mimetype": "text/x-python",
   "name": "python",
   "nbconvert_exporter": "python",
   "pygments_lexer": "ipython3",
   "version": "3.7.6"
  },
  "orig_nbformat": 4,
  "vscode": {
   "interpreter": {
    "hash": "582af6181b47cb820cde296633630fdf33660e12ce88a44605837ad51942398b"
   }
  }
 },
 "nbformat": 4,
 "nbformat_minor": 2
}
