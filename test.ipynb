{
 "cells": [
  {
   "cell_type": "code",
   "execution_count": 1,
   "id": "0a68b4b4-b1e6-477c-9d12-0e9f4f69b042",
   "metadata": {},
   "outputs": [],
   "source": [
    "import pandas as pd"
   ]
  },
  {
   "cell_type": "code",
   "execution_count": 3,
   "id": "5cbcc67e-0835-4349-ac46-9d1083ed79e3",
   "metadata": {},
   "outputs": [],
   "source": [
    "version = '1.1.2'\n",
    "filename = f'~/jlab/data/usdrub_{version}.csv'\n",
    "#csv_path = '~/notebook_server/data/USDRUB.csv'\n",
    "usdrub = pd.read_csv(filename)\n",
    "\n",
    "version_save = '1.1.2+'\n",
    "savefilename = f'~/jlab/result/usdrub_{version_save}.csv'\n",
    "usdrub.to_csv(savefilename)"
   ]
  },
  {
   "cell_type": "code",
   "execution_count": 3,
   "id": "ab256334-5bf9-4350-b28a-6dc9e4e56c09",
   "metadata": {},
   "outputs": [],
   "source": [
    "version = '1.1.2'\n",
    "filename = f'~/jlab/data/usdrub_{version}.csv'\n",
    "#csv_path = '~/notebook_server/data/USDRUB.csv'\n",
    "usdrub = pd.read_csv(filename)\n",
    "\n",
    "version_save = '1.1.2+'\n",
    "savefilename = f'~/jlab/result/usdrub_{version_save}.csv'\n",
    "usdrub.to_csv(savefilename)"
   ]
  },
  {
   "cell_type": "code",
   "execution_count": null,
   "id": "43846a5f-f42b-42a6-9c95-cc92dc2f9f3e",
   "metadata": {},
   "outputs": [],
   "source": []
  }
 ],
 "metadata": {
  "kernelspec": {
   "display_name": "Python 3.10.6 64-bit",
   "language": "python",
   "name": "python3"
  },
  "language_info": {
   "codemirror_mode": {
    "name": "ipython",
    "version": 3
   },
   "file_extension": ".py",
   "mimetype": "text/x-python",
   "name": "python",
   "nbconvert_exporter": "python",
   "pygments_lexer": "ipython3",
   "version": "3.10.6"
  },
  "vscode": {
   "interpreter": {
    "hash": "369f2c481f4da34e4445cda3fffd2e751bd1c4d706f27375911949ba6bb62e1c"
   }
  }
 },
 "nbformat": 4,
 "nbformat_minor": 5
}
